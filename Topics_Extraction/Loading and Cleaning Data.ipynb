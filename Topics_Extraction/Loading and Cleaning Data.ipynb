{
 "cells": [
  {
   "cell_type": "markdown",
   "id": "b95d2e0b",
   "metadata": {},
   "source": [
    "# Loading and Cleaning Data"
   ]
  },
  {
   "cell_type": "code",
   "execution_count": 3,
   "id": "2f1aed64",
   "metadata": {},
   "outputs": [],
   "source": [
    "import pandas as pd\n",
    "import os\n",
    "import nltk\n",
    "from nltk.tokenize import sent_tokenize, word_tokenize\n",
    "import scipy\n",
    "from scipy import spatial\n",
    "from textblob import TextBlob\n",
    "sw = nltk.corpus.stopwords.words('english')\n"
   ]
  },
  {
   "cell_type": "markdown",
   "id": "98a425b0",
   "metadata": {},
   "source": [
    "## Loading Data"
   ]
  },
  {
   "cell_type": "code",
   "execution_count": 4,
   "id": "2ef164e2",
   "metadata": {},
   "outputs": [
    {
     "data": {
      "text/html": [
       "<div>\n",
       "<style scoped>\n",
       "    .dataframe tbody tr th:only-of-type {\n",
       "        vertical-align: middle;\n",
       "    }\n",
       "\n",
       "    .dataframe tbody tr th {\n",
       "        vertical-align: top;\n",
       "    }\n",
       "\n",
       "    .dataframe thead th {\n",
       "        text-align: right;\n",
       "    }\n",
       "</style>\n",
       "<table border=\"1\" class=\"dataframe\">\n",
       "  <thead>\n",
       "    <tr style=\"text-align: right;\">\n",
       "      <th></th>\n",
       "      <th>speaker</th>\n",
       "      <th>conf_number</th>\n",
       "      <th>transcript</th>\n",
       "    </tr>\n",
       "  </thead>\n",
       "  <tbody>\n",
       "    <tr>\n",
       "      <th>0</th>\n",
       "      <td>boris_johnson</td>\n",
       "      <td>5.txt</td>\n",
       "      <td>I wish I could tell you that this pandemic tha...</td>\n",
       "    </tr>\n",
       "    <tr>\n",
       "      <th>1</th>\n",
       "      <td>boris_johnson</td>\n",
       "      <td>4.txt</td>\n",
       "      <td>Thank you, Mr. President, Your Excellencies, l...</td>\n",
       "    </tr>\n",
       "    <tr>\n",
       "      <th>2</th>\n",
       "      <td>boris_johnson</td>\n",
       "      <td>3.txt</td>\n",
       "      <td>Mr. Speaker, thank you very much. And with you...</td>\n",
       "    </tr>\n",
       "    <tr>\n",
       "      <th>3</th>\n",
       "      <td>boris_johnson</td>\n",
       "      <td>2.txt</td>\n",
       "      <td>And there are many, many reasons for me, I sho...</td>\n",
       "    </tr>\n",
       "    <tr>\n",
       "      <th>4</th>\n",
       "      <td>boris_johnson</td>\n",
       "      <td>1.txt</td>\n",
       "      <td>Thank you. And it may seem a bit premature to ...</td>\n",
       "    </tr>\n",
       "  </tbody>\n",
       "</table>\n",
       "</div>"
      ],
      "text/plain": [
       "         speaker conf_number  \\\n",
       "0  boris_johnson       5.txt   \n",
       "1  boris_johnson       4.txt   \n",
       "2  boris_johnson       3.txt   \n",
       "3  boris_johnson       2.txt   \n",
       "4  boris_johnson       1.txt   \n",
       "\n",
       "                                          transcript  \n",
       "0  I wish I could tell you that this pandemic tha...  \n",
       "1  Thank you, Mr. President, Your Excellencies, l...  \n",
       "2  Mr. Speaker, thank you very much. And with you...  \n",
       "3  And there are many, many reasons for me, I sho...  \n",
       "4  Thank you. And it may seem a bit premature to ...  "
      ]
     },
     "execution_count": 4,
     "metadata": {},
     "output_type": "execute_result"
    }
   ],
   "source": [
    "# Reading txt files and creating the complete dataset\n",
    "\n",
    "path=\"./data/conferences\"\n",
    "\n",
    "# list all sub-directories\n",
    "persons = os.listdir(path)\n",
    "dict_temp = {}\n",
    "\n",
    "col_1=[]\n",
    "col_2=[]\n",
    "col_3=[]\n",
    "\n",
    "for person in persons:\n",
    "    \n",
    "    files = os.listdir(path + \"/\" + person)\n",
    "    \n",
    "    for file in files:\n",
    "        with open(path + \"/\" + person + \"/\" + file, 'r') as f:\n",
    "            content = f.read()\n",
    "            \n",
    "        col_1.append(person)\n",
    "        col_2.append(file)\n",
    "        col_3.append(content)\n",
    "        \n",
    "\n",
    "content= {'speaker': col_1, 'conf_number': col_2, 'transcript':col_3}\n",
    "data = pd.DataFrame(content)\n",
    "\n",
    "data.head()"
   ]
  },
  {
   "cell_type": "code",
   "execution_count": 5,
   "id": "ea83e18d",
   "metadata": {},
   "outputs": [],
   "source": [
    "# Total Words New Column\n",
    "data['totalwords'] = [len(x.split()) for x in data['transcript'].tolist()]"
   ]
  },
  {
   "cell_type": "code",
   "execution_count": 6,
   "id": "336bc899",
   "metadata": {},
   "outputs": [],
   "source": [
    "def  text_processing(df, column):\n",
    "    \n",
    "    '''\n",
    "    Args: Receive a dataframe and the column name to clean\n",
    "    Function: Transform the indicated column by removing stop words, lowering case, \n",
    "              spelling correction, removing punctuation and removing numbers.\n",
    "    Return: the clean dataframe\n",
    "    '''\n",
    "    \n",
    "    df[column] = df[column].apply(lambda x: \" \".join(x.lower() for x in x.split()))\n",
    "    df[column] = df[column].apply(lambda x: \" \".join(x for x in x.split()if x not in sw))\n",
    "    df[column].apply(lambda x: str(TextBlob(x).correct()))\n",
    "    df[column] = df[column].str.replace('[^\\w\\s]', '')\n",
    "    df[column] = df[column].str.replace('[0-9]', '')\n",
    "    \n",
    "    return df"
   ]
  },
  {
   "cell_type": "markdown",
   "id": "12fbc609",
   "metadata": {},
   "source": [
    "## Cleaning Data"
   ]
  },
  {
   "cell_type": "code",
   "execution_count": 7,
   "id": "6ea050ab",
   "metadata": {},
   "outputs": [],
   "source": [
    "new_data = text_processing(data, 'transcript')"
   ]
  },
  {
   "cell_type": "code",
   "execution_count": 8,
   "id": "26957f13",
   "metadata": {},
   "outputs": [
    {
     "data": {
      "text/html": [
       "<div>\n",
       "<style scoped>\n",
       "    .dataframe tbody tr th:only-of-type {\n",
       "        vertical-align: middle;\n",
       "    }\n",
       "\n",
       "    .dataframe tbody tr th {\n",
       "        vertical-align: top;\n",
       "    }\n",
       "\n",
       "    .dataframe thead th {\n",
       "        text-align: right;\n",
       "    }\n",
       "</style>\n",
       "<table border=\"1\" class=\"dataframe\">\n",
       "  <thead>\n",
       "    <tr style=\"text-align: right;\">\n",
       "      <th></th>\n",
       "      <th>speaker</th>\n",
       "      <th>conf_number</th>\n",
       "      <th>transcript</th>\n",
       "      <th>totalwords</th>\n",
       "    </tr>\n",
       "  </thead>\n",
       "  <tbody>\n",
       "    <tr>\n",
       "      <th>0</th>\n",
       "      <td>boris_johnson</td>\n",
       "      <td>5.txt</td>\n",
       "      <td>wish could tell pandemic we’re going over, wis...</td>\n",
       "      <td>4270</td>\n",
       "    </tr>\n",
       "    <tr>\n",
       "      <th>1</th>\n",
       "      <td>boris_johnson</td>\n",
       "      <td>4.txt</td>\n",
       "      <td>thank you, mr. president, excellencies, ladies...</td>\n",
       "      <td>2125</td>\n",
       "    </tr>\n",
       "    <tr>\n",
       "      <th>2</th>\n",
       "      <td>boris_johnson</td>\n",
       "      <td>3.txt</td>\n",
       "      <td>mr. speaker, thank much. permission, make stat...</td>\n",
       "      <td>1713</td>\n",
       "    </tr>\n",
       "    <tr>\n",
       "      <th>3</th>\n",
       "      <td>boris_johnson</td>\n",
       "      <td>2.txt</td>\n",
       "      <td>many, many reasons me, say, come exeter colleg...</td>\n",
       "      <td>2374</td>\n",
       "    </tr>\n",
       "    <tr>\n",
       "      <th>4</th>\n",
       "      <td>boris_johnson</td>\n",
       "      <td>1.txt</td>\n",
       "      <td>thank you. may seem bit premature make speech ...</td>\n",
       "      <td>3797</td>\n",
       "    </tr>\n",
       "  </tbody>\n",
       "</table>\n",
       "</div>"
      ],
      "text/plain": [
       "         speaker conf_number  \\\n",
       "0  boris_johnson       5.txt   \n",
       "1  boris_johnson       4.txt   \n",
       "2  boris_johnson       3.txt   \n",
       "3  boris_johnson       2.txt   \n",
       "4  boris_johnson       1.txt   \n",
       "\n",
       "                                          transcript  totalwords  \n",
       "0  wish could tell pandemic we’re going over, wis...        4270  \n",
       "1  thank you, mr. president, excellencies, ladies...        2125  \n",
       "2  mr. speaker, thank much. permission, make stat...        1713  \n",
       "3  many, many reasons me, say, come exeter colleg...        2374  \n",
       "4  thank you. may seem bit premature make speech ...        3797  "
      ]
     },
     "execution_count": 8,
     "metadata": {},
     "output_type": "execute_result"
    }
   ],
   "source": [
    "new_data.head()"
   ]
  },
  {
   "cell_type": "code",
   "execution_count": 9,
   "id": "ebf877ac",
   "metadata": {},
   "outputs": [],
   "source": [
    "new_data.to_csv(\"./data/cleaned_data.csv\")"
   ]
  }
 ],
 "metadata": {
  "kernelspec": {
   "display_name": "Python 3 (ipykernel)",
   "language": "python",
   "name": "python3"
  },
  "language_info": {
   "codemirror_mode": {
    "name": "ipython",
    "version": 3
   },
   "file_extension": ".py",
   "mimetype": "text/x-python",
   "name": "python",
   "nbconvert_exporter": "python",
   "pygments_lexer": "ipython3",
   "version": "3.9.0"
  }
 },
 "nbformat": 4,
 "nbformat_minor": 5
}
